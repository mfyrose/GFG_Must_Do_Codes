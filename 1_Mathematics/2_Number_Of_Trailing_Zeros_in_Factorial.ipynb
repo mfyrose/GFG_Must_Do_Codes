{
 "cells": [
  {
   "cell_type": "markdown",
   "id": "12a61a45",
   "metadata": {},
   "source": [
    "## Count trailing zeroes in factorial of a number\n",
    "\n",
    "Given an integer n, write a function that returns count of trailing zeroes in n!. \n",
    "\n",
    "<b>Examples : </b>\n",
    "\n",
    "Input: n = 5\n",
    "\n",
    "Output: 1\n",
    "\n",
    "Factorial of 5 is 120 which has one trailing 0.\n",
    "\n",
    "Input: n = 20\n",
    "\n",
    "Output: 4\n",
    "\n",
    "Factorial of 20 is 2432902008176640000 which has\n",
    "\n",
    "4 trailing zeroes.\n",
    "\n",
    "Input: n = 100\n",
    "\n",
    "Output: 24"
   ]
  },
  {
   "cell_type": "markdown",
   "id": "26a9418f",
   "metadata": {},
   "source": [
    "### Approach\n",
    "\n",
    "Approach:\n",
    "A simple method is to first calculate factorial of n, then count trailing 0s in the result (We can count trailing 0s by repeatedly dividing the factorial by 10 till the remainder is 0).\n",
    " \n",
    "The above method can cause overflow for slightly bigger numbers as the factorial of a number is a big number (See factorial of 20 given in above examples). The idea is to consider prime factors of a factorial n. A trailing zero is always produced by prime factors 2 and 5. If we can count the number of 5s and 2s, our task is done. Consider the following examples.\n",
    "n = 5: There is one 5 and 3 2s in prime factors of 5! (2 * 2 * 2 * 3 * 5). So a count of trailing 0s is 1.\n",
    "n = 11: There are two 5s and eight 2s in prime factors of 11! (2 8 * 34 * 52 * 7). So the count of trailing 0s is 2.\n",
    " \n",
    "We can easily observe that the number of 2s in prime factors is always more than or equal to the number of 5s. So if we count 5s in prime factors, we are done. How to count the total number of 5s in prime factors of n!? A simple way is to calculate floor(n/5). For example, 7! has one 5, 10! has two 5s. It is not done yet, there is one more thing to consider. Numbers like 25, 125, etc have more than one 5. For example, if we consider 28! we get one extra 5 and the number of 0s becomes 6. Handling this is simple, first, divide n by 5 and remove all single 5s, then divide by 25 to remove extra 5s, and so on. Following is the summarized formula for counting trailing 0s"
   ]
  },
  {
   "cell_type": "markdown",
   "id": "83617538",
   "metadata": {},
   "source": [
    "### Algorithm\n",
    "\n",
    "1.raise the power of 5 until 5*(n/i) become 0\n",
    "\n",
    "Example 100!\n",
    "\n",
    "==> [100/5]  = 20 > 0\n",
    "\n",
    "==> [100/25] = 4 > 0\n",
    "\n",
    "==> [100/125] = 0 exit the loop\n",
    "\n",
    "20 + 4 is number of trailing zeros"
   ]
  },
  {
   "cell_type": "code",
   "execution_count": 10,
   "id": "e28b49f5",
   "metadata": {},
   "outputs": [],
   "source": [
    "def numberOfZeros(n):\n",
    "    \n",
    "    result = 0\n",
    "    i = 5\n",
    "    \n",
    "    while i <= n:\n",
    "        \n",
    "        result = result + (n // i)\n",
    "        \n",
    "        i = i*5\n",
    "\n",
    "    return result\n",
    "\n",
    "\n",
    "        "
   ]
  },
  {
   "cell_type": "code",
   "execution_count": 11,
   "id": "a1f1c40f",
   "metadata": {},
   "outputs": [
    {
     "name": "stdout",
     "output_type": "stream",
     "text": [
      "24\n"
     ]
    }
   ],
   "source": [
    "print(numberOfZeros(100))"
   ]
  },
  {
   "cell_type": "code",
   "execution_count": null,
   "id": "a29a74fb",
   "metadata": {},
   "outputs": [],
   "source": []
  }
 ],
 "metadata": {
  "kernelspec": {
   "display_name": "Python 3",
   "language": "python",
   "name": "python3"
  },
  "language_info": {
   "codemirror_mode": {
    "name": "ipython",
    "version": 3
   },
   "file_extension": ".py",
   "mimetype": "text/x-python",
   "name": "python",
   "nbconvert_exporter": "python",
   "pygments_lexer": "ipython3",
   "version": "3.8.8"
  }
 },
 "nbformat": 4,
 "nbformat_minor": 5
}
