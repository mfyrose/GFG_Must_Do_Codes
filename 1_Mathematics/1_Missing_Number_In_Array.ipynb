{
 "cells": [
  {
   "cell_type": "markdown",
   "id": "65762f3c",
   "metadata": {},
   "source": [
    "We will see two types here\n",
    "\n",
    "1. Missing number in an array\n",
    "\n",
    "2. Missing Kth number in an array"
   ]
  },
  {
   "cell_type": "markdown",
   "id": "9c2d842b",
   "metadata": {},
   "source": [
    "## Problem 1\n",
    "\n",
    "1. You are given a list of n-1 integers and these integers are in the range of 1 to n.\n",
    "2. There are no duplicates in the list.\n",
    "3. One of the integers is missing in the list. Write an efficient code to find the missing integer.\n",
    "\n",
    "Example:\n",
    "\n",
    "Input: arr[] = {1, 2, 4, 6, 3, 7, 8}\n",
    "\n",
    "Output: 5\n",
    "\n",
    "Explanation: The missing number from 1 to 8 is 5\n",
    "\n",
    "Input: arr[] = {1, 2, 3, 5}\n",
    "\n",
    "Output: 4\n",
    "\n",
    "Explanation: The missing number from 1 to 5 is 4"
   ]
  },
  {
   "cell_type": "code",
   "execution_count": 3,
   "id": "455fc4ea",
   "metadata": {},
   "outputs": [],
   "source": [
    "def find_missing_number(int_array):\n",
    "    \n",
    "    n = len(int_array) + 1\n",
    "    total = n * (n+1) / 2\n",
    "    sum_of_array = sum(int_array)\n",
    "    return int(total - sum_of_array)"
   ]
  },
  {
   "cell_type": "code",
   "execution_count": 5,
   "id": "38e76824",
   "metadata": {},
   "outputs": [
    {
     "name": "stdout",
     "output_type": "stream",
     "text": [
      "3\n"
     ]
    }
   ],
   "source": [
    "arr = [1, 2, 4, 5, 6]\n",
    "\n",
    "num = find_missing_number(arr)\n",
    "\n",
    "print(num)"
   ]
  },
  {
   "cell_type": "code",
   "execution_count": null,
   "id": "c9a9175b",
   "metadata": {},
   "outputs": [],
   "source": []
  }
 ],
 "metadata": {
  "kernelspec": {
   "display_name": "Python 3",
   "language": "python",
   "name": "python3"
  },
  "language_info": {
   "codemirror_mode": {
    "name": "ipython",
    "version": 3
   },
   "file_extension": ".py",
   "mimetype": "text/x-python",
   "name": "python",
   "nbconvert_exporter": "python",
   "pygments_lexer": "ipython3",
   "version": "3.8.8"
  }
 },
 "nbformat": 4,
 "nbformat_minor": 5
}
